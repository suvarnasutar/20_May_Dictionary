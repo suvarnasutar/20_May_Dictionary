{
 "cells": [
  {
   "cell_type": "code",
   "execution_count": null,
   "id": "4943edcf",
   "metadata": {},
   "outputs": [],
   "source": [
    "#########  Que 1   #########\n",
    "1. What does an empty dictionary's code look like?"
   ]
  },
  {
   "cell_type": "code",
   "execution_count": null,
   "id": "90997143",
   "metadata": {},
   "outputs": [],
   "source": [
    "An empty dictionary is an empty pair of curly braces.An empty dictionary's code look like :\n",
    "Fruits={}    # an empty dictionary"
   ]
  },
  {
   "cell_type": "code",
   "execution_count": null,
   "id": "9585ec02",
   "metadata": {},
   "outputs": [],
   "source": []
  },
  {
   "cell_type": "code",
   "execution_count": null,
   "id": "d73199ee",
   "metadata": {},
   "outputs": [],
   "source": [
    "#########  Que 2   #########\n",
    "2. What is the value of a dictionary value with the key 'foo' and the value 42?"
   ]
  },
  {
   "cell_type": "code",
   "execution_count": 1,
   "id": "81942579",
   "metadata": {},
   "outputs": [],
   "source": [
    "dict={'foo':42,'name':\"Suvarna\"}"
   ]
  },
  {
   "cell_type": "code",
   "execution_count": 2,
   "id": "d6f45099",
   "metadata": {},
   "outputs": [
    {
     "data": {
      "text/plain": [
       "{'foo': 42, 'name': 'Suvarna'}"
      ]
     },
     "execution_count": 2,
     "metadata": {},
     "output_type": "execute_result"
    }
   ],
   "source": [
    "dict"
   ]
  },
  {
   "cell_type": "code",
   "execution_count": null,
   "id": "e16a6d9d",
   "metadata": {},
   "outputs": [],
   "source": []
  },
  {
   "cell_type": "code",
   "execution_count": null,
   "id": "202b68af",
   "metadata": {},
   "outputs": [],
   "source": [
    "#########  Que 3   #########\n",
    "3. What is the most significant distinction between a dictionary and a list?"
   ]
  },
  {
   "cell_type": "code",
   "execution_count": null,
   "id": "5e156e28",
   "metadata": {},
   "outputs": [],
   "source": [
    "The list is an ordered collection of data, whereas the dictionaries store the data in the form of key-value pairs."
   ]
  },
  {
   "cell_type": "code",
   "execution_count": 10,
   "id": "a8632472",
   "metadata": {},
   "outputs": [
    {
     "name": "stdout",
     "output_type": "stream",
     "text": [
      "List Values: \n",
      "Saanvi\n"
     ]
    },
    {
     "data": {
      "text/plain": [
       "['Suvarna', 'Sutar', 'Saanvi']"
      ]
     },
     "execution_count": 10,
     "metadata": {},
     "output_type": "execute_result"
    }
   ],
   "source": [
    "List = [\"Suvarna\",\"Sutar\",\"Saanvi\"]    # defining list\n",
    "print(\"List Values: \")\n",
    "print(List[2])\n",
    "List"
   ]
  },
  {
   "cell_type": "code",
   "execution_count": 16,
   "id": "69260c1f",
   "metadata": {},
   "outputs": [
    {
     "name": "stdout",
     "output_type": "stream",
     "text": [
      "Dictionary with the use of Integer Keys: \n",
      "{1: 'Elon', 2: 'Thomas', 3: 'Andrew'}\n"
     ]
    }
   ],
   "source": [
    "Dict = {1: 'Elon', 2: 'Thomas', 3: 'Andrew'}         # defining dictionary \n",
    "print(\"Dictionary with the use of Integer Keys: \")\n",
    "print(Dict)\n"
   ]
  },
  {
   "cell_type": "code",
   "execution_count": null,
   "id": "94fa0c3c",
   "metadata": {},
   "outputs": [],
   "source": []
  },
  {
   "cell_type": "code",
   "execution_count": null,
   "id": "14894927",
   "metadata": {},
   "outputs": [],
   "source": [
    "#########  Que  4  #########\n",
    "4. What happens if you try to access spam['foo'] if spam is {'bar': 100}?"
   ]
  },
  {
   "cell_type": "code",
   "execution_count": 17,
   "id": "c4464a24",
   "metadata": {},
   "outputs": [],
   "source": [
    "spam={'bar':100}"
   ]
  },
  {
   "cell_type": "code",
   "execution_count": 19,
   "id": "097a62e5",
   "metadata": {},
   "outputs": [
    {
     "ename": "KeyError",
     "evalue": "'foo'",
     "output_type": "error",
     "traceback": [
      "\u001b[1;31m---------------------------------------------------------------------------\u001b[0m",
      "\u001b[1;31mKeyError\u001b[0m                                  Traceback (most recent call last)",
      "Cell \u001b[1;32mIn[19], line 1\u001b[0m\n\u001b[1;32m----> 1\u001b[0m spam[\u001b[38;5;124m'\u001b[39m\u001b[38;5;124mfoo\u001b[39m\u001b[38;5;124m'\u001b[39m]\n",
      "\u001b[1;31mKeyError\u001b[0m: 'foo'"
     ]
    }
   ],
   "source": [
    "spam['foo']           #  giving an error"
   ]
  },
  {
   "cell_type": "code",
   "execution_count": null,
   "id": "bb16c25b",
   "metadata": {},
   "outputs": [],
   "source": []
  },
  {
   "cell_type": "code",
   "execution_count": null,
   "id": "24299300",
   "metadata": {},
   "outputs": [],
   "source": [
    "#########  Que  5  #########\n",
    "5. If a dictionary is stored in spam, what is the difference between the expressions 'cat' in spam and\n",
    "'cat' in spam.keys()?"
   ]
  },
  {
   "cell_type": "code",
   "execution_count": null,
   "id": "8398739a",
   "metadata": {},
   "outputs": [],
   "source": [
    "spam={'cat':100}    # it checks whether there is a 'cat' key present in the dictionary."
   ]
  },
  {
   "cell_type": "code",
   "execution_count": 8,
   "id": "c1f6927c",
   "metadata": {},
   "outputs": [],
   "source": [
    "spam = {'name' : \"cat\"}"
   ]
  },
  {
   "cell_type": "code",
   "execution_count": 9,
   "id": "cf98e722",
   "metadata": {},
   "outputs": [
    {
     "data": {
      "text/plain": [
       "dict_keys(['name'])"
      ]
     },
     "execution_count": 9,
     "metadata": {},
     "output_type": "execute_result"
    }
   ],
   "source": [
    "spam.keys()         # it checks whether there is a key 'cat' for any value in spam."
   ]
  },
  {
   "cell_type": "code",
   "execution_count": null,
   "id": "7544051a",
   "metadata": {},
   "outputs": [],
   "source": []
  },
  {
   "cell_type": "code",
   "execution_count": null,
   "id": "c5cef4a4",
   "metadata": {},
   "outputs": [],
   "source": [
    "#########  Que  6  #########\n",
    "6. If a dictionary is stored in spam, what is the difference between the expressions 'cat' in spam and\n",
    "'cat' in spam.values()?"
   ]
  },
  {
   "cell_type": "code",
   "execution_count": 1,
   "id": "6bf329ef",
   "metadata": {},
   "outputs": [],
   "source": [
    "spam={'cat':2}     # it checks whether there is a 'cat' key present in the dictionary."
   ]
  },
  {
   "cell_type": "code",
   "execution_count": 1,
   "id": "2a6481c4",
   "metadata": {},
   "outputs": [],
   "source": [
    "spam = {'name' : \"cat\"}"
   ]
  },
  {
   "cell_type": "code",
   "execution_count": 2,
   "id": "45a3efa0",
   "metadata": {},
   "outputs": [
    {
     "data": {
      "text/plain": [
       "dict_values(['cat'])"
      ]
     },
     "execution_count": 2,
     "metadata": {},
     "output_type": "execute_result"
    }
   ],
   "source": [
    "spam.values()      # it checks whether there is a value 'cat' for any key in spam."
   ]
  },
  {
   "cell_type": "code",
   "execution_count": null,
   "id": "4f70c2f0",
   "metadata": {},
   "outputs": [],
   "source": []
  },
  {
   "cell_type": "code",
   "execution_count": null,
   "id": "4546fc47",
   "metadata": {},
   "outputs": [],
   "source": [
    "#########  Que  7  #########\n",
    "7. What is a shortcut for the following code?\n",
    "if 'color' not in spam:\n",
    "spam['color'] = 'black'"
   ]
  },
  {
   "cell_type": "code",
   "execution_count": 21,
   "id": "3e10e5be",
   "metadata": {},
   "outputs": [
    {
     "data": {
      "text/plain": [
       "'black'"
      ]
     },
     "execution_count": 21,
     "metadata": {},
     "output_type": "execute_result"
    }
   ],
   "source": [
    "spam={'bar':100}  #  color is not in dictionary here\n",
    "spam.setdefault('color','black')  # shortcut"
   ]
  },
  {
   "cell_type": "code",
   "execution_count": null,
   "id": "526b9529",
   "metadata": {},
   "outputs": [],
   "source": []
  },
  {
   "cell_type": "code",
   "execution_count": null,
   "id": "c68fc6f4",
   "metadata": {},
   "outputs": [],
   "source": [
    "#########  Que 8   #########\n",
    "8. How do you \"pretty print\" dictionary values using which module and function?"
   ]
  },
  {
   "cell_type": "code",
   "execution_count": null,
   "id": "faefcaed",
   "metadata": {},
   "outputs": [],
   "source": [
    "The module used is the pprint module within which we have the pprint function of the same name. The function can be implemented\n",
    "to pretty-print the specific string or object."
   ]
  },
  {
   "cell_type": "code",
   "execution_count": 5,
   "id": "ecc77c04",
   "metadata": {},
   "outputs": [],
   "source": [
    "import pprint\n",
    "dict = [ {'Name':\"Suvarna\",'Age':31,'City':\"Ichalkaranji\"},\n",
    "       {'Name':\"Saanvi\",'Age':5,'City':\"Kolhapur\"},\n",
    "       {'Name':\"Dipak\",'Age':25,'City':\"Vijayapur\"}]\n"
   ]
  },
  {
   "cell_type": "code",
   "execution_count": 6,
   "id": "efc3bf4d",
   "metadata": {},
   "outputs": [
    {
     "name": "stdout",
     "output_type": "stream",
     "text": [
      "[{'Age': 31, 'City': 'Ichalkaranji', 'Name': 'Suvarna'},\n",
      " {'Age': 5, 'City': 'Kolhapur', 'Name': 'Saanvi'},\n",
      " {'Age': 25, 'City': 'Vijayapur', 'Name': 'Dipak'}]\n"
     ]
    }
   ],
   "source": [
    "# printing with pprint()\n",
    "pprint.pprint(dict)"
   ]
  },
  {
   "cell_type": "code",
   "execution_count": 7,
   "id": "46db894e",
   "metadata": {},
   "outputs": [
    {
     "name": "stdout",
     "output_type": "stream",
     "text": [
      "[{'Name': 'Suvarna', 'Age': 31, 'City': 'Ichalkaranji'}, {'Name': 'Saanvi', 'Age': 5, 'City': 'Kolhapur'}, {'Name': 'Dipak', 'Age': 25, 'City': 'Vijayapur'}]\n"
     ]
    }
   ],
   "source": [
    "#Printing with print()\n",
    "print(dict)"
   ]
  },
  {
   "cell_type": "code",
   "execution_count": null,
   "id": "7d7649fa",
   "metadata": {},
   "outputs": [],
   "source": []
  }
 ],
 "metadata": {
  "kernelspec": {
   "display_name": "Python 3 (ipykernel)",
   "language": "python",
   "name": "python3"
  },
  "language_info": {
   "codemirror_mode": {
    "name": "ipython",
    "version": 3
   },
   "file_extension": ".py",
   "mimetype": "text/x-python",
   "name": "python",
   "nbconvert_exporter": "python",
   "pygments_lexer": "ipython3",
   "version": "3.11.3"
  }
 },
 "nbformat": 4,
 "nbformat_minor": 5
}
